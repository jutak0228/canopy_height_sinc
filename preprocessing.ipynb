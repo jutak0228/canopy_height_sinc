{
 "cells": [
  {
   "cell_type": "code",
   "execution_count": 2,
   "metadata": {},
   "outputs": [],
   "source": [
    "import rasterio\n",
    "from glob import glob\n",
    "import subprocess"
   ]
  },
  {
   "cell_type": "markdown",
   "metadata": {},
   "source": [
    "# Pre-processing"
   ]
  },
  {
   "cell_type": "code",
   "execution_count": 3,
   "metadata": {},
   "outputs": [],
   "source": [
    "resolution = 50 # meter\n",
    "rs_method = 'lanczos'"
   ]
  },
  {
   "cell_type": "markdown",
   "metadata": {},
   "source": [
    "## Litchfield"
   ]
  },
  {
   "cell_type": "code",
   "execution_count": 6,
   "metadata": {
    "collapsed": true
   },
   "outputs": [
    {
     "name": "stdout",
     "output_type": "stream",
     "text": [
      "Creating output file that is 102P x 102L.\n",
      "Processing data/lidar/litchfield/square_canopy_10m_no_overlap.tif [1/1] : 0Using internal nodata values (e.g. -32767) for image data/lidar/litchfield/square_canopy_10m_no_overlap.tif.\n",
      "Copying nodata values from source data/lidar/litchfield/square_canopy_10m_no_overlap.tif to destination data/lidar/litchfield/square_canopy_50m_from_10m_lanczos.tif.\n",
      "...10...20...30...40...50...60...70...80...90...100 - done.\n",
      "Creating output file that is 1720P x 1681L.\n",
      "Processing data/alos2/litchfield_int_coh_20150314_20150326.tif [1/1] : 0"
     ]
    },
    {
     "name": "stderr",
     "output_type": "stream",
     "text": [
      "Warning 1: data/alos2/litchfield_int_coh_20150314_20150326.tif: TIFFReadDirectory:Sum of Photometric type-related color channels and ExtraSamples doesn't match SamplesPerPixel. Defining non-color channels as ExtraSamples.\n",
      "Warning 1: TIFFReadDirectory:Sum of Photometric type-related color channels and ExtraSamples doesn't match SamplesPerPixel. Defining non-color channels as ExtraSamples.\n"
     ]
    },
    {
     "name": "stdout",
     "output_type": "stream",
     "text": [
      "...10...20...30...40...50...60...70...80...90...100 - done.\n",
      "Input file size is 1720, 1681\n",
      "0...10...20...30...40...50...60...70...80...90...100 - done.\n"
     ]
    },
    {
     "data": {
      "text/plain": [
       "0"
      ]
     },
     "execution_count": 6,
     "metadata": {},
     "output_type": "execute_result"
    }
   ],
   "source": [
    "# Downsample the GT\n",
    "loc_input = 'data/lidar/litchfield/square_canopy_10m_no_overlap.tif'\n",
    "loc_output = f'data/lidar/litchfield/square_canopy_{resolution}m_from_10m_{rs_method}.tif'\n",
    "cmd = f'gdalwarp -tr {resolution} {-resolution} -r {rs_method} -overwrite {loc_input} {loc_output}'\n",
    "subprocess.call(cmd.split())\n",
    "\n",
    "# Reproject the coherence image and match the resolution to the GT\n",
    "src = rasterio.open(loc_output)\n",
    "epsg = src.crs.to_epsg()\n",
    "\n",
    "loc_input = 'data/alos2/litchfield_int_coh_20150314_20150326.tif'\n",
    "loc_output = f'data/alos2/litchfield_int_coh_20150314_20150326_{epsg}.tif'\n",
    "cmd = f'gdalwarp -t_srs EPSG:{epsg} -tr {resolution} {-resolution} -r {rs_method} -overwrite {loc_input} {loc_output}'\n",
    "subprocess.call(cmd.split())\n",
    "\n",
    "# Clip\n",
    "ulx, lry, lrx, uly = src.bounds\n",
    "loc_input = f'data/alos2/litchfield_int_coh_20150314_20150326_{epsg}.tif'\n",
    "loc_output = f'data/alos2/litchfield_int_coh_20150314_20150326_{epsg}_clp.tif'\n",
    "cmd = f'gdal_translate -projwin {ulx} {uly} {lrx} {lry} {loc_input} {loc_output}'\n",
    "subprocess.call(cmd.split())"
   ]
  },
  {
   "cell_type": "markdown",
   "metadata": {},
   "source": [
    "## Albany"
   ]
  },
  {
   "cell_type": "code",
   "execution_count": 7,
   "metadata": {},
   "outputs": [
    {
     "name": "stdout",
     "output_type": "stream",
     "text": [
      "Creating output file that is 1706P x 1724L.\n",
      "Processing data/alos2/albany_int_coh_20201016_20211015.tif [1/1] : 0"
     ]
    },
    {
     "name": "stderr",
     "output_type": "stream",
     "text": [
      "Warning 1: data/alos2/albany_int_coh_20201016_20211015.tif: TIFFReadDirectory:Sum of Photometric type-related color channels and ExtraSamples doesn't match SamplesPerPixel. Defining non-color channels as ExtraSamples.\n",
      "Warning 1: TIFFReadDirectory:Sum of Photometric type-related color channels and ExtraSamples doesn't match SamplesPerPixel. Defining non-color channels as ExtraSamples.\n"
     ]
    },
    {
     "name": "stdout",
     "output_type": "stream",
     "text": [
      "...10...20...30...40...50...60...70...80...90...100 - done.\n",
      "Input file size is 1706, 1724\n",
      "0...10...20...30...40...50...60...70...80...90...100 - done.\n"
     ]
    },
    {
     "data": {
      "text/plain": [
       "0"
      ]
     },
     "execution_count": 7,
     "metadata": {},
     "output_type": "execute_result"
    }
   ],
   "source": [
    "# Get meta info from the label\n",
    "src = rasterio.open(f'data/label/Albany_ht_est.tif')\n",
    "epsg = src.crs.to_epsg()\n",
    "xres, yres = src.transform.a, src.transform.e\n",
    "ulx, lry, lrx, uly = src.bounds\n",
    "\n",
    "# Match the resolution\n",
    "loc_input = 'data/alos2/albany_int_coh_20201016_20211015.tif'\n",
    "loc_output = f'data/alos2/albany_int_coh_20201016_20211015_{epsg}.tif'\n",
    "cmd = f'gdalwarp -t_srs EPSG:{epsg} -tr {xres} {yres} -r {rs_method} -overwrite {loc_input} {loc_output}'\n",
    "subprocess.call(cmd.split())\n",
    "\n",
    "# Adjust the image shape\n",
    "loc_input = f'data/alos2/albany_int_coh_20201016_20211015_{epsg}.tif'\n",
    "loc_output = f'data/alos2/albany_int_coh_20201016_20211015_{epsg}_clp.tif'\n",
    "cmd = f'gdal_translate -projwin {ulx} {uly} {lrx} {lry} -tr {xres} {yres} {loc_input} {loc_output}'\n",
    "subprocess.call(cmd.split())"
   ]
  },
  {
   "cell_type": "code",
   "execution_count": null,
   "metadata": {},
   "outputs": [],
   "source": []
  },
  {
   "cell_type": "code",
   "execution_count": null,
   "metadata": {},
   "outputs": [],
   "source": []
  },
  {
   "cell_type": "markdown",
   "metadata": {},
   "source": [
    "# DEM Download"
   ]
  },
  {
   "cell_type": "code",
   "execution_count": null,
   "metadata": {},
   "outputs": [],
   "source": [
    "import ee\n",
    "from IPython.display import clear_output\n",
    "import time\n",
    "import json\n",
    "# from pathlib import Path\n",
    "# from urllib.request import urlretrieve\n",
    "# import zipfile\n",
    "\n",
    "# ee.Authenticate()\n",
    "ee.Initialize()"
   ]
  },
  {
   "cell_type": "code",
   "execution_count": null,
   "metadata": {},
   "outputs": [],
   "source": [
    "with open('./AOI/litchfield_lidar.geojson','r') as f:\n",
    "    aoi_json = json.load(f)\n",
    "    \n",
    "coords = aoi_json['features'][0]['geometry']['coordinates'][0][0]\n",
    "aoi = ee.Geometry.Polygon(coords)\n",
    "\n",
    "\n",
    "# Donload the DEM\n",
    "img = ee.Image('AU/GA/DEM_1SEC/v10/DEM-H').select(['elevation']).clip(aoi)\n",
    "task = ee.batch.Export.image.toCloudStorage(image=img,  # an ee.Image object.\n",
    "                                            description='Download the Australian DEM',\n",
    "                                            bucket='takahata-dev',   # Must be under the root directory. E.g. \"d1/d2\" does not work\n",
    "                                            fileNamePrefix=f'dem/australia_litchfield_30m',\n",
    "#                                             scale=30, # meter per pixel\n",
    "                                            # crs='EPSG:28350',\n",
    "                                            maxPixels=1e+10)\n",
    "\n",
    "task.start()\n",
    "while True:\n",
    "    clear_output(wait=True)\n",
    "    status = task.status()\n",
    "    print(status)\n",
    "    if status['state'] == 'COMPLETED' or status['state'] == 'FAILED':\n",
    "        break\n",
    "    time.sleep(2)"
   ]
  },
  {
   "cell_type": "code",
   "execution_count": null,
   "metadata": {},
   "outputs": [],
   "source": [
    "#cmd = 'gsutil cp gs://takahata-dev/sentinel2/2019*NDVI.tif /home/ketak/data_disk/S2/Albany/'\n",
    "cmd = f'gsutil cp gs://takahata-dev/dem/*litchfield* /home/ketak/data_disk/DEM/'\n",
    "subprocess.call(cmd.split())"
   ]
  }
 ],
 "metadata": {
  "kernelspec": {
   "display_name": "Python 3 (ipykernel)",
   "language": "python",
   "name": "python3"
  },
  "language_info": {
   "codemirror_mode": {
    "name": "ipython",
    "version": 3
   },
   "file_extension": ".py",
   "mimetype": "text/x-python",
   "name": "python",
   "nbconvert_exporter": "python",
   "pygments_lexer": "ipython3",
   "version": "3.8.6"
  }
 },
 "nbformat": 4,
 "nbformat_minor": 5
}
